{
 "cells": [
  {
   "cell_type": "markdown",
   "id": "613678a2",
   "metadata": {},
   "source": [
    "# Arithmetic Experiments"
   ]
  },
  {
   "cell_type": "markdown",
   "id": "962fba31",
   "metadata": {},
   "source": [
    "## Imports"
   ]
  },
  {
   "cell_type": "code",
   "execution_count": 61,
   "id": "93f6670b",
   "metadata": {},
   "outputs": [
    {
     "name": "stdout",
     "output_type": "stream",
     "text": [
      "using cuda\n"
     ]
    }
   ],
   "source": [
    "from os.path import dirname, abspath\n",
    "import sys, os\n",
    "d = dirname(os.path.abspath(''))\n",
    "sys.path.append(d)\n",
    "\n",
    "from implicitdl import ImplicitModel, ImplicitModelLoRA, ImplicitFunctionInf, ImplicitFunctionTriu\n",
    "\n",
    "import torch\n",
    "from torch import nn\n",
    "import torch.nn.functional as F\n",
    "device = torch.device('cuda')\n",
    "print('using ' + str(device))\n",
    "torch.set_default_device(device)\n",
    "\n",
    "import numpy as np\n",
    "from tqdm.auto import trange, tqdm\n",
    "import matplotlib.pyplot as plt\n",
    "import seaborn as sns\n",
    "sns.set()\n",
    "\n",
    "# seed = 1234\n",
    "# np.random.seed(seed)\n",
    "# torch.manual_seed(seed)\n",
    "# if torch.cuda.is_available():\n",
    "#     torch.cuda.manual_seed_all(seed)\n",
    "    \n",
    "%matplotlib inline"
   ]
  },
  {
   "cell_type": "markdown",
   "id": "dc2e3931",
   "metadata": {},
   "source": [
    "## Data Generation"
   ]
  },
  {
   "cell_type": "code",
   "execution_count": 62,
   "id": "880e30e7",
   "metadata": {},
   "outputs": [],
   "source": [
    "DIM = 50\n",
    "SAMPLES = 10000\n",
    "\n",
    "randrange = lambda dim: sorted(np.random.choice(range(dim+1), size=2, replace=False))\n",
    "\n",
    "funcs = {\n",
    "    'add': lambda a, b: a+b,\n",
    "    'sub': lambda a, b: a-b,\n",
    "    'mul': lambda a, b: 0.5*a*b,\n",
    "    'div': lambda a, b: a/b,\n",
    "    'custom_1': lambda a, b: a + torch.sin(b),\n",
    "    'custom_2': lambda a, b: a**3 - 3*b**2 + a**2*b,\n",
    "}\n",
    "\n",
    "# n, m = randrange(DIM)\n",
    "# p, q = randrange(DIM)\n",
    "n, m = 0, DIM//2\n",
    "p, q = DIM//2, DIM\n",
    "\n",
    "def make_data(lower, upper, func):\n",
    "    X = torch.tensor(np.random.uniform(lower, upper, size=(SAMPLES, DIM)), device=device, dtype=torch.float)\n",
    "    a = X[:, n:m].sum(axis=-1).unsqueeze(-1)\n",
    "    b = X[:, p:q].sum(axis=-1).unsqueeze(-1)\n",
    "    y = func(a, b)\n",
    "    return X, y\n",
    "\n",
    "# def make_data(lower, upper, func):\n",
    "#     X = torch.tensor(np.random.uniform(lower, upper, size=(SAMPLES, DIM)), device=device, dtype=torch.float)\n",
    "#     y = torch.sum(X, -1)\n",
    "#     return X, y.unsqueeze(-1)"
   ]
  },
  {
   "cell_type": "markdown",
   "id": "d43691e6",
   "metadata": {},
   "source": [
    "## Training Code"
   ]
  },
  {
   "cell_type": "code",
   "execution_count": 63,
   "id": "425ca161",
   "metadata": {},
   "outputs": [],
   "source": [
    "def train(model, X, y, epochs, lr):\n",
    "    [nn.init.kaiming_uniform_(p, mode='fan_in', nonlinearity='relu') for p in model.parameters()]\n",
    "    optimizer = torch.optim.Adam(model.parameters(), lr=lr)\n",
    "    scheduler = torch.optim.lr_scheduler.ExponentialLR(optimizer, gamma=0.995)\n",
    "    losses = []\n",
    "    \n",
    "    model.train()\n",
    "    for _ in range(epochs):\n",
    "        pred = model(X)\n",
    "        loss = F.mse_loss(pred, y)\n",
    "        l1_lambda = 0.01\n",
    "        l1_norm = sum(torch.linalg.norm(p, 1) for p in model.parameters())\n",
    "        loss = loss + l1_lambda * l1_norm\n",
    "        optimizer.zero_grad()\n",
    "        loss.backward()\n",
    "        optimizer.step()\n",
    "        # scheduler.step()\n",
    "\n",
    "        losses.append(loss.item())\n",
    "        # it.set_postfix(lr=scheduler.get_last_lr()[0])\n",
    "            \n",
    "    return losses"
   ]
  },
  {
   "cell_type": "markdown",
   "id": "d90df04c",
   "metadata": {},
   "source": [
    "## Model Generation\n",
    "To override the default nonlinearity (ReLU), override the implicit function you wish to use, and replace the phi and dphi (gradient of nonlinearity) methods."
   ]
  },
  {
   "cell_type": "code",
   "execution_count": 64,
   "id": "f9298996",
   "metadata": {},
   "outputs": [],
   "source": [
    "class CustomInf(ImplicitFunctionInf):\n",
    "    \"\"\"\n",
    "    Change the default convergence parameters.\n",
    "    \"\"\"\n",
    "    mitr = grad_mitr = 500\n",
    "    tol = grad_tol = 1e-6\n",
    "\n",
    "class ImplicitFunctionInfSiLU(CustomInf):\n",
    "    \"\"\"\n",
    "    An implicit function that uses the SiLU nonlinearity.\n",
    "    \"\"\"\n",
    "    # triu = False\n",
    "    @staticmethod\n",
    "    def phi(X):\n",
    "        return X * torch.sigmoid(X)\n",
    "\n",
    "    @staticmethod\n",
    "    def dphi(X):\n",
    "        grad = X.clone().detach()\n",
    "        sigmoid = torch.sigmoid(grad)\n",
    "        return sigmoid * (1 + grad * (1 - sigmoid))\n",
    "    \n",
    "class ImplicitFunctionTriuSiLU(ImplicitFunctionTriu):\n",
    "    \"\"\"\n",
    "    An implicit function that uses the SiLU nonlinearity.\n",
    "    \"\"\"\n",
    "    mitr = grad_mitr = 500\n",
    "    tol = grad_tol = 1e-6\n",
    "    # triu = True\n",
    "    @staticmethod\n",
    "    def phi(X):\n",
    "        return X * torch.sigmoid(X)\n",
    "\n",
    "    @staticmethod\n",
    "    def dphi(X):\n",
    "        grad = X.clone().detach()\n",
    "        sigmoid = torch.sigmoid(grad)\n",
    "        return sigmoid * (1 + grad * (1 - sigmoid))\n",
    "    \n",
    "def fuse_parameters(model):\n",
    "    \"\"\"Move model parameters to a contiguous tensor, and return that tensor.\"\"\"\n",
    "    n = sum(p.numel() for p in model.parameters())\n",
    "    params = torch.zeros(n)\n",
    "    i = 0\n",
    "    for p in model.parameters():\n",
    "        params_slice = params[i:i + p.numel()]\n",
    "        params_slice.copy_(p.flatten())\n",
    "        p.data = params_slice.view(p.shape)\n",
    "        i += p.numel()\n",
    "    return params\n",
    "\n",
    "def compute_accuracy(y_pred, y_true):\n",
    "    close = (torch.abs(y_pred - y_true)/torch.abs(y_true) < 1e-2).float()\n",
    "    return close.mean()"
   ]
  },
  {
   "cell_type": "code",
   "execution_count": 65,
   "id": "9e808547",
   "metadata": {},
   "outputs": [],
   "source": [
    "input_size = DIM\n",
    "lora_size = 2\n",
    "hidden_size = 20\n",
    "output_size = 1\n",
    "more_state = 2\n",
    "make_imp_relu = lambda: ImplicitModel(hidden_size, input_size, output_size, f=CustomInf, no_D=False)\n",
    "make_imp_triu_l = lambda: ImplicitModel(hidden_size+more_state, input_size, output_size, f=ImplicitFunctionTriu, no_D=False)\n",
    "make_imp_triu_s = lambda: ImplicitModel(hidden_size, input_size, output_size, f=ImplicitFunctionTriu, no_D=False)\n",
    "make_imp_silu = lambda: ImplicitModel(hidden_size, input_size, output_size, f=ImplicitFunctionInfSiLU, no_D=False)\n",
    "make_imp_triu_silu_l = lambda: ImplicitModel(hidden_size+more_state, input_size, output_size, f=ImplicitFunctionTriuSiLU, no_D=False)\n",
    "make_imp_triu_silu_s = lambda: ImplicitModel(hidden_size, input_size, output_size, f=ImplicitFunctionTriuSiLU, no_D=False)\n",
    "make_imp_lora = lambda: ImplicitModelLoRA(lora_size, hidden_size, input_size, output_size, f=CustomInf, no_D=False)"
   ]
  },
  {
   "cell_type": "code",
   "execution_count": 66,
   "id": "8095c2ab",
   "metadata": {},
   "outputs": [],
   "source": [
    "def make_mlp(act):\n",
    "    return nn.Sequential(\n",
    "        nn.Linear(DIM, hidden_size, bias=False),\n",
    "        act(),\n",
    "        nn.Linear(hidden_size, hidden_size, bias=False),\n",
    "        act(),\n",
    "        # nn.Linear(hidden_size, hidden_size, bias=False),\n",
    "        # act(),\n",
    "        nn.Linear(hidden_size, 1, bias=False),\n",
    "    )"
   ]
  },
  {
   "cell_type": "markdown",
   "id": "bd82286d",
   "metadata": {},
   "source": [
    "## Full Pipeline"
   ]
  },
  {
   "cell_type": "code",
   "execution_count": 67,
   "id": "b91f1d2f",
   "metadata": {},
   "outputs": [],
   "source": [
    "EPOCHS = 1000\n",
    "LR = 0.08"
   ]
  },
  {
   "cell_type": "code",
   "execution_count": 68,
   "id": "bb11760f",
   "metadata": {},
   "outputs": [
    {
     "name": "stdout",
     "output_type": "stream",
     "text": [
      "Model Sizes:\n",
      "ImplicitLoRA: 1150 parameters\n",
      "Implicit: 1470 parameters\n",
      "MLP: 1420 parameters\n"
     ]
    }
   ],
   "source": [
    "task = \"add\"\n",
    "# task = \"sub\"\n",
    "# task = \"mul\"\n",
    "# task = 'div'\n",
    "# task = \"custom_1\"\n",
    "# task = \"custom_2\"\n",
    "X, y = make_data(-1, 1, funcs[task])\n",
    "\n",
    "models = {\n",
    "    'ImplicitLoRA': make_imp_lora().to(device),\n",
    "    # 'ImplicitTriu_L': make_imp_triu_l().to(device),\n",
    "    # 'ImplicitTriu_S': make_imp_triu_s().to(device),\n",
    "    # 'ImplicitTriuSiLU_L': make_imp_triu_silu_l().to(device),\n",
    "    # 'ImplicitTriuSiLU_S': make_imp_triu_silu_s().to(device),\n",
    "    'Implicit': make_imp_relu().to(device),    \n",
    "    # 'ImplicitSiLU': make_imp_silu().to(device),\n",
    "    'MLP': make_mlp(nn.SiLU).to(device),\n",
    "    # 'MLPSiLU': make_mlp(nn.SiLU).to(device)\n",
    "}\n",
    "\n",
    "print('Model Sizes:')\n",
    "for name, model in models.items():\n",
    "    if name == 'ImplicitTriuSiLU_L' or name == \"ImplicitTriuSiLU_S\":\n",
    "    # if model.triu == True:\n",
    "        print(name)\n",
    "        size = model.A.detach().cpu().numpy().size\n",
    "        non_learnable = int(size/2 - model.A.shape[0]/2)\n",
    "        print(f'{name}: {sum(p.numel() for p in model.parameters()) - non_learnable} parameters')\n",
    "    else:\n",
    "        print(f'{name}: {sum(p.numel() for p in model.parameters())} parameters')\n",
    "    # [nn.init.constant_(p, -0.01) for p in model.parameters()]\n"
   ]
  },
  {
   "cell_type": "code",
   "execution_count": 69,
   "id": "3fda188e",
   "metadata": {},
   "outputs": [
    {
     "name": "stdout",
     "output_type": "stream",
     "text": [
      "ImplicitLoRA\n"
     ]
    },
    {
     "name": "stdout",
     "output_type": "stream",
     "text": [
      "Implicit\n",
      "MLP\n"
     ]
    }
   ],
   "source": [
    "num_exps = 10\n",
    "factors = np.linspace(1, 10, num=10)\n",
    "losses = {}\n",
    "\n",
    "X_tests, y_tests = [], []\n",
    "for factor in factors:\n",
    "    X_test, y_test = make_data(-factor, factor, funcs[task])\n",
    "    X_tests.append(X_test)\n",
    "    y_tests.append(y_test)\n",
    "\n",
    "losses = {name: [] for name in models}\n",
    "extraps = {name: [[] for factor in factors] for name in models}\n",
    "extraps_acc = {name: [[] for factor in factors] for name in models}\n",
    "for name, model in models.items():\n",
    "    print(name)\n",
    "    for i in range(num_exps):\n",
    "        losses[name].append(train(model, X, y, EPOCHS, LR))\n",
    "        for k in range(len(factors)):\n",
    "            with torch.no_grad():\n",
    "                extraps[name][k].append(F.mse_loss(model(X_tests[k]), y_tests[k]).item())\n",
    "                extraps_acc[name][k].append(compute_accuracy(model(X_tests[k]), y_tests[k]).item())"
   ]
  },
  {
   "cell_type": "code",
   "execution_count": 70,
   "id": "b0b4711b",
   "metadata": {},
   "outputs": [
    {
     "name": "stdout",
     "output_type": "stream",
     "text": [
      "ImplicitLoRA\n",
      " train(lasso): 0.033706357888877395\n",
      " test(mse): 0.00025350157302455044\n",
      " acc: 0.7812099814414978\n",
      " nonzeros: 1150\n",
      "\n",
      "\n",
      "Implicit\n",
      " train(lasso): 0.035935860499739646\n",
      " test(mse): 9.902925721689826e-05\n",
      " acc: 0.8705999791622162\n",
      " nonzeros: 1470\n",
      "\n",
      "\n",
      "MLP\n",
      " train(lasso): 0.06528259292244912\n",
      " test(mse): 0.0035397390834987163\n",
      " acc: 0.38368999063968656\n",
      " nonzeros: 1420\n",
      "\n",
      "\n"
     ]
    }
   ],
   "source": [
    "mean_losses = {name: [] for name in models}\n",
    "std_losses = {name: [] for name in models}\n",
    "mean_extraps = {name: [] for name in models}\n",
    "std_extraps = {name: [] for name in models}\n",
    "mean_extraps_acc = {name: [] for name in models}\n",
    "std_extraps_acc = {name: [] for name in models}\n",
    "for name, model in models.items():\n",
    "    mean_losses[name] = np.mean(losses[name], 0)\n",
    "    std_losses[name] = np.std(losses[name], 0)\n",
    "    mean_extraps[name] = np.mean(extraps[name], 1)\n",
    "    std_extraps[name] = np.std(extraps[name], 1)\n",
    "    mean_extraps_acc[name] = np.mean(extraps_acc[name], 1)\n",
    "    std_extraps_acc[name] = np.std(extraps_acc[name], 1)\n",
    "    print(name)\n",
    "    print(\" train(lasso):\", mean_losses[name][-1])\n",
    "    print(\" test(mse):\", mean_extraps[name][0])\n",
    "    print(\" acc:\", mean_extraps_acc[name][0])\n",
    "    params = fuse_parameters(model)\n",
    "    print(\" nonzeros:\", torch.count_nonzero(params).item())\n",
    "    print(\"\\n\")\n",
    "my_task = (task, mean_losses, std_losses, mean_extraps)"
   ]
  },
  {
   "cell_type": "markdown",
   "id": "024dab15",
   "metadata": {},
   "source": [
    "## Plot Results"
   ]
  },
  {
   "cell_type": "code",
   "execution_count": 89,
   "id": "537b0c49",
   "metadata": {},
   "outputs": [],
   "source": [
    "styles = ['-', '-.', '--', ':', '-', '-.', '--', ':']"
   ]
  },
  {
   "cell_type": "code",
   "execution_count": 94,
   "id": "e2e1ef91",
   "metadata": {},
   "outputs": [
    {
     "data": {
      "image/png": "[encoded data removed]",
      "text/plain": [
       "<Figure size 600x400 with 1 Axes>"
      ]
     },
     "metadata": {},
     "output_type": "display_data"
    }
   ],
   "source": [
    "my_task = (task, mean_losses, std_losses, mean_extraps, std_extraps)\n",
    "fig, axes = plt.subplots(1, 1, figsize=(6, 4))\n",
    "plt.rcParams['axes.grid'] = True\n",
    "for ax, (name, mean_loss, std_loss, _, _) in zip([axes], [my_task]):\n",
    "    \n",
    "    for style, (model_name, model_loss), (_, model_loss_std)  in zip(styles, mean_loss.items(), std_loss.items()):\n",
    "        ax.plot(range(len(model_loss)), np.log10(model_loss), label=model_name, ls=style)\n",
    "        ax.fill_between(range(len(model_loss)), np.log10(model_loss - model_loss_std), np.log10(model_loss + model_loss_std), alpha=0.2)\n",
    "        # ax.plot(range(len(model_loss)), (model_loss), label=model_name, ls=style)\n",
    "        # ax.fill_between(range(len(model_loss)), (model_loss - model_loss_std),(model_loss + model_loss_std), alpha=0.2)    \n",
    "    # ax.set_ylim(-5, 2)\n",
    "    ax.set_title(f'{name.title()} Training Comparison')\n",
    "    ax.set_xlabel('Epoch')\n",
    "    ax.set_ylabel('Log10(MSE Loss)')\n",
    "    ax.legend()\n",
    "    \n",
    "plt.show()"
   ]
  },
  {
   "cell_type": "code",
   "execution_count": 96,
   "id": "874ff0b3",
   "metadata": {},
   "outputs": [
    {
     "data": {
      "image/png": "[encoded data removed]",
      "text/plain": [
       "<Figure size 600x400 with 1 Axes>"
      ]
     },
     "metadata": {},
     "output_type": "display_data"
    }
   ],
   "source": [
    "my_task = (task, mean_losses, std_losses, mean_extraps, std_extraps)\n",
    "fig, axes = plt.subplots(1, 1, figsize=(6, 4))\n",
    "for ax, (name, _, _, mean_extrap, std_extrap) in zip([axes], [my_task]):\n",
    "    \n",
    "    for style, (model_name, model_extrap), (_, model_extrap_std) in zip(styles, mean_extrap.items(), std_extrap.items()):\n",
    "        # ax.plot(factors, np.log10(model_extrap), label=model_name, ls=style)\n",
    "        # ax.fill_between(factors, np.log10(model_extrap - model_extrap_std), np.log10(model_extrap + model_extrap_std), alpha=0.2)\n",
    "        ax.plot(factors, (model_extrap), label=model_name, ls=style)\n",
    "        ax.fill_between(factors, (model_extrap - model_extrap_std), (model_extrap + model_extrap_std), alpha=0.2)\n",
    "    \n",
    "    # ax.set_ylim(-5, 10)\n",
    "    ax.set_title(f'{name.title()} Extrapolation Comparison')\n",
    "    ax.set_xlabel('Distribution Shift Factor')\n",
    "    # ax.set_ylabel('Log10(MSE Loss)')\n",
    "    ax.set_ylabel('MSE Loss')\n",
    "    ax.legend()\n",
    "    \n",
    "plt.show()"
   ]
  },
  {
   "cell_type": "code",
   "execution_count": 92,
   "id": "f338dab2",
   "metadata": {},
   "outputs": [
    {
     "name": "stdout",
     "output_type": "stream",
     "text": [
      "rank: 15\n",
      "norm: 0.012137509\n"
     ]
    }
   ],
   "source": [
    "import matplotlib.pyplot as plt\n",
    "import scipy.sparse as sp\n",
    "\n",
    "# model_name = 'Implicit'\n",
    "# model_name = 'ImplicitTriuSiLU_L'\n",
    "# model_name = 'ImplicitTriuSiLU_S'\n",
    "model_name = 'ImplicitLoRA'\n",
    "vis_model = models[model_name].to('cpu')\n",
    "if model_name == \"ImplicitLoRA\":\n",
    "    matrix = np.abs((vis_model.L @ vis_model.R.transpose(-1,-2)).detach().numpy())\n",
    "else:\n",
    "    matrix = np.abs(vis_model.A.detach().numpy())\n",
    "# print(matrix)\n",
    "print(\"rank:\", np.linalg.matrix_rank(matrix))\n",
    "norm_inf_A = np.linalg.norm(matrix, ord=float('inf')) \n",
    "print(\"norm:\", norm_inf_A)\n",
    "\n",
    "# plt.rcParams['axes.grid'] = False\n",
    "# plt.figure(figsize=(6, 4))\n",
    "# non_zero_weights = np.isclose(matrix, 0, 1e-5) == False\n",
    "# im = plt.imshow(non_zero_weights, cmap='Greys', aspect='equal')\n",
    "# plt.title(f'{model_name}: n_params = {matrix.size}, n_nonzeros = {np.count_nonzero(non_zero_weights)}\\n')\n",
    "# plt.xlabel('Input Neurons')\n",
    "# plt.ylabel('Output Neurons')\n",
    "\n",
    "# cbar = plt.colorbar(im)\n",
    "# cbar.set_label('Weight Magnitude')\n",
    "\n",
    "# plt.tight_layout()\n",
    "# plt.show()"
   ]
  },
  {
   "cell_type": "markdown",
   "id": "12cf6678",
   "metadata": {},
   "source": [
    "how to evaluate sparsity:\n",
    "- absolute number of nonzeros\n",
    "- percentage of nonzeros\n",
    "\n",
    "robustness\n",
    "- enable some random lower triangular elements, increase 10% number of parameters, add L1 norm (encourage sparsity, reduce 10% number of nonzeros) and hope for better performance and robustness"
   ]
  },
  {
   "cell_type": "code",
   "execution_count": 93,
   "id": "da2c61c1",
   "metadata": {},
   "outputs": [
    {
     "name": "stdout",
     "output_type": "stream",
     "text": [
      "[[ 3  1 -2]\n",
      " [ 4 -5  6]\n",
      " [-7  8  9]]\n",
      "[ 6 15 24]\n",
      "[[0 0 0]\n",
      " [0 0 0]\n",
      " [0 0 0]]\n",
      "[0 0 0]\n"
     ]
    }
   ],
   "source": [
    "# A1_np = np.array([[1],[-1],[2]])\n",
    "# A2_np = np.array([[3, 2, -4]])\n",
    "# A_np = A1_np @ A2_np\n",
    "A_np = np.array([[3, 1, -2], [4, -5, 6], [-7, 8, 9]])\n",
    "# project A on |A|_inf=v\n",
    "v = 0.95\n",
    "print(A_np)\n",
    "x = np.abs(A_np).sum(axis=-1)\n",
    "print(x)\n",
    "for idx in np.where(x > v)[0]:\n",
    "    # read the vector\n",
    "    a_orig = A_np[idx, :]\n",
    "    # print(a_orig)\n",
    "    a_sign = np.sign(a_orig)\n",
    "    # print(a_sign)\n",
    "    a_abs = np.abs(a_orig)\n",
    "    # print(a_abs)\n",
    "    a = np.sort(a_abs)\n",
    "    # print(a)\n",
    "\n",
    "    s = np.sum(a) - v\n",
    "    l = float(len(a))\n",
    "    for i in range(len(a)):\n",
    "        if s / l > a[i]:\n",
    "            s -= a[i]\n",
    "            l -= 1\n",
    "        else:\n",
    "            break\n",
    "    # print(s, l)\n",
    "    alpha = s / l\n",
    "    a = a_sign * np.maximum(a_abs - alpha, 0)\n",
    "    # verify\n",
    "    # print(a)\n",
    "    assert np.isclose(np.abs(a).sum(), v)\n",
    "    # write back\n",
    "    A_np[idx, :] = a\n",
    "print(A_np)\n",
    "print(np.abs(A_np).sum(axis=-1))"
   ]
  }
 ],
 "metadata": {
  "kernelspec": {
   "display_name": "sim",
   "language": "python",
   "name": "python3"
  },
  "language_info": {
   "codemirror_mode": {
    "name": "ipython",
    "version": 3
   },
   "file_extension": ".py",
   "mimetype": "text/x-python",
   "name": "python",
   "nbconvert_exporter": "python",
   "pygments_lexer": "ipython3",
   "version": "3.10.14"
  }
 },
 "nbformat": 4,
 "nbformat_minor": 5
}
